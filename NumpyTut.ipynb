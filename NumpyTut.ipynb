{
 "cells": [
  {
   "cell_type": "markdown",
   "metadata": {},
   "source": [
    "# Numpy Tutorial\n",
    "***"
   ]
  },
  {
   "cell_type": "code",
   "execution_count": 11,
   "metadata": {},
   "outputs": [],
   "source": [
    "import numpy as np"
   ]
  },
  {
   "cell_type": "markdown",
   "metadata": {},
   "source": [
    "# One dimension numpy array\n",
    "***"
   ]
  },
  {
   "cell_type": "code",
   "execution_count": 35,
   "metadata": {},
   "outputs": [
    {
     "name": "stdout",
     "output_type": "stream",
     "text": [
      "Size gives information about the number of elements present in array. Hence, Size = Number of Elements present\n",
      "SIZE OF DEFINED NUMPY ARRAY (NPARRAY_1D) IS ======> 5 \n",
      "\n",
      "Shape gives information about the number of dimension of the numpy array. Hence, SHAPE = DIMENSION of Numpy Array\n",
      "SHAPE OF DEFINED NUMPY ARRAY (NPARRAY_1D) IS ======> (5,) \n"
     ]
    }
   ],
   "source": [
    "# User can create single dimension from list/array in python. For example create a tuple of 5 numbers \n",
    "tuple1 = [2, 4, 6, 8, 10]\n",
    "\n",
    "# Create single dimension numpy array from python list (tuple1)\n",
    "nparray_1D = np.array(tuple1)\n",
    "\n",
    "# Display the SIZE of the numpy array \n",
    "print('Size gives information about the number of elements present in array. Hence, Size = Number of Elements present')\n",
    "msg = 'Size of defined numpy array (nparray_1D) is ======> {} '.upper()\n",
    "print(msg.format(nparray_1D.size))\n",
    "\n",
    "# Display the SHAPE of the numpy array \n",
    "print('\\nShape gives information about the number of dimension of the numpy array. Hence, SHAPE = DIMENSION of Numpy Array')\n",
    "msg = 'Shape of defined numpy array (nparray_1D) is ======> {} '.upper()\n",
    "print(msg.format(nparray_1D.shape))"
   ]
  },
  {
   "cell_type": "code",
   "execution_count": null,
   "metadata": {},
   "outputs": [],
   "source": []
  },
  {
   "cell_type": "code",
   "execution_count": null,
   "metadata": {},
   "outputs": [],
   "source": []
  },
  {
   "cell_type": "code",
   "execution_count": null,
   "metadata": {},
   "outputs": [],
   "source": []
  },
  {
   "cell_type": "code",
   "execution_count": null,
   "metadata": {},
   "outputs": [],
   "source": []
  },
  {
   "cell_type": "markdown",
   "metadata": {},
   "source": [
    "## Understand Indexing with single dimension numpy array\n",
    "***"
   ]
  },
  {
   "cell_type": "code",
   "execution_count": null,
   "metadata": {},
   "outputs": [],
   "source": []
  },
  {
   "cell_type": "code",
   "execution_count": null,
   "metadata": {},
   "outputs": [],
   "source": []
  },
  {
   "cell_type": "code",
   "execution_count": null,
   "metadata": {},
   "outputs": [],
   "source": []
  },
  {
   "cell_type": "code",
   "execution_count": null,
   "metadata": {},
   "outputs": [],
   "source": []
  },
  {
   "cell_type": "markdown",
   "metadata": {},
   "source": [
    "## Numpy 3-Dimension example\n",
    "***"
   ]
  },
  {
   "cell_type": "code",
   "execution_count": 9,
   "metadata": {},
   "outputs": [
    {
     "data": {
      "text/plain": [
       "(2, 2, 5)"
      ]
     },
     "execution_count": 9,
     "metadata": {},
     "output_type": "execute_result"
    }
   ],
   "source": [
    "# Create first dimension of size 5 each elements\n",
    "tuple1_dim1 = np.arange(5)\n",
    "tuple2_dim1 = np.arange(5)\n",
    "tuple3_dim1 = np.arange(5)\n",
    "\n",
    "# Create second dimension of size 2 (Each element have two single dimension tuples of size 5)\n",
    "tuple4_dim2 = [tuple1_dim1, tuple2_dim1]\n",
    "tuple5_dim2 = [tuple1_dim1, tuple3_dim1]\n",
    "\n",
    "# Third dimension (Size = 2)\n",
    "cube_dim3 = [tuple4_dim2, tuple5_dim2]\n",
    "\n",
    "# Create three dimension numpy array\n",
    "npobj = np.array(cube_dim3)\n",
    "\n",
    "# Check shape of the numpy array which confirm three dimension\n",
    "npobj.shape"
   ]
  },
  {
   "cell_type": "code",
   "execution_count": 10,
   "metadata": {},
   "outputs": [
    {
     "data": {
      "text/plain": [
       "array([[[0, 1, 2, 3, 4],\n",
       "        [0, 1, 2, 3, 4]],\n",
       "\n",
       "       [[0, 1, 2, 3, 4],\n",
       "        [0, 1, 2, 3, 4]]])"
      ]
     },
     "execution_count": 10,
     "metadata": {},
     "output_type": "execute_result"
    }
   ],
   "source": [
    "npobj"
   ]
  },
  {
   "cell_type": "code",
   "execution_count": null,
   "metadata": {},
   "outputs": [],
   "source": []
  },
  {
   "cell_type": "code",
   "execution_count": null,
   "metadata": {},
   "outputs": [],
   "source": []
  }
 ],
 "metadata": {
  "instance_type": "ml.t3.medium",
  "kernelspec": {
   "display_name": "Python 3 (Data Science)",
   "language": "python",
   "name": "python3__SAGEMAKER_INTERNAL__arn:aws:sagemaker:us-east-2:429704687514:image/datascience-1.0"
  },
  "language_info": {
   "codemirror_mode": {
    "name": "ipython",
    "version": 3
   },
   "file_extension": ".py",
   "mimetype": "text/x-python",
   "name": "python",
   "nbconvert_exporter": "python",
   "pygments_lexer": "ipython3",
   "version": "3.7.6"
  }
 },
 "nbformat": 4,
 "nbformat_minor": 4
}
